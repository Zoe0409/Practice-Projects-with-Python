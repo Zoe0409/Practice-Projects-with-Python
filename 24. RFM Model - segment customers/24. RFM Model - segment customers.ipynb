{
 "cells": [
  {
   "cell_type": "markdown",
   "metadata": {},
   "source": [
    "To deliver personalized experiences to customers, segmentation is key. It can provide insights into your customers behavior, habits, and preferences, allowing you to offer tailored marketing campaigns increasing your odds of success as well as improving your customers experience with tailored content."
   ]
  },
  {
   "cell_type": "markdown",
   "metadata": {},
   "source": [
    "# RFM Model"
   ]
  },
  {
   "cell_type": "markdown",
   "metadata": {},
   "source": [
    "Using transactional purchasing data, we will be able to create a 2 x 2 value matrix to create 4 customers groups. Each group will defer from the other depending on 2 dimensions: (1) current customer value, and (2) potential customer value."
   ]
  },
  {
   "cell_type": "markdown",
   "metadata": {},
   "source": [
    "<img src=\"https://miro.medium.com/max/1920/1*AW-LW6i7BPBs4ED3hCCd8w.png\" width=\"400\">"
   ]
  },
  {
   "cell_type": "markdown",
   "metadata": {},
   "source": [
    "We are going to use the RFM model to create the required features from transactional purchasing data. The RFM model stands for:\n",
    "\n",
    "- Recency: When was the last time they purchased?\n",
    "\n",
    "- Frequency: How often and for how long have they purchased?\n",
    "\n",
    "- Monetary Value/Sales: How much have they purchased?\n",
    "\n",
    "It’s usually used to identify the Highest Value Customer at the intersection of each 3 questions. To build the 2 x 2 matrix we will only use the R & the M from RFM."
   ]
  },
  {
   "cell_type": "markdown",
   "metadata": {},
   "source": [
    "<img src=\"https://miro.medium.com/max/1088/1*7JfiT-GBi4R501svnVrQFA.png\"  width=\"200\">"
   ]
  },
  {
   "cell_type": "markdown",
   "metadata": {},
   "source": [
    "**Step 0: Load, filter, clean, and aggregate the data at the customer level**"
   ]
  },
  {
   "cell_type": "code",
   "execution_count": null,
   "metadata": {},
   "outputs": [],
   "source": [
    "import matplotlib as plt\n",
    "import numpy as np\n",
    "%matplotlib inline  \n",
    "import warnings\n",
    "warnings.filterwarnings('ignore')\n",
    "import pandas as pd\n",
    "from datetime import datetime\n",
    "path = \"Put your data path here\"\n",
    "df = pd.read_excel(path)\n",
    "df.drop(0,inplace = True)\n",
    "df[\"Order Date\"] = df[\"Payment No.\"].str[:8]\n",
    "df = df[[\"Order Number\",\"User ID\",\"Order Date\",\"Total GMV\"]]"
   ]
  },
  {
   "cell_type": "code",
   "execution_count": null,
   "metadata": {},
   "outputs": [],
   "source": [
    "df.head()"
   ]
  },
  {
   "cell_type": "markdown",
   "metadata": {},
   "source": [
    "**Step 1: Create RFM Features for each customers**"
   ]
  },
  {
   "cell_type": "code",
   "execution_count": null,
   "metadata": {},
   "outputs": [],
   "source": [
    "df_RFM = df.groupby('User ID').agg({'Order Date': lambda y: (df['Order Date'].max().date() - y.max().date()).days,\n",
    "                                        'Order Number': lambda y: len(y.unique()),  \n",
    "                                        'Total GMV': lambda y: round(y.sum(),2)})\n",
    "df_RFM.columns = ['Recency', 'Frequency', 'Monetary']\n",
    "df_RFM = df_RFM.sort_values('Monetary', ascending=False)\n",
    "df_RFM.head()"
   ]
  },
  {
   "cell_type": "markdown",
   "metadata": {},
   "source": [
    "**Step 2: To automate the segmentation we will use the 80% quantile for Recency and Monetary (we could have also used k-mean clustering or leveraged business knowledge to create buckets — for example global superstore business users consider an active customer as someone whose last order is less than 100 days old)**"
   ]
  },
  {
   "cell_type": "code",
   "execution_count": null,
   "metadata": {},
   "outputs": [],
   "source": [
    "# We will use the 80% quantile for each feature\n",
    "quantiles = df_RFM.quantile(q=[0.8])\n",
    "print(quantiles)\n",
    "df_RFM['R']=np.where(df_RFM['Recency']<=int(quantiles.Recency.values), 2, 1)\n",
    "df_RFM['F']=np.where(df_RFM['Frequency']>=int(quantiles.Frequency.values), 2, 1)\n",
    "df_RFM['M']=np.where(df_RFM['Monetary']>=int(quantiles.Monetary.values), 2, 1)\n",
    "df_RFM.head()"
   ]
  },
  {
   "cell_type": "markdown",
   "metadata": {},
   "source": [
    "**Step 3: Calculate RM score and sort customers**"
   ]
  },
  {
   "cell_type": "code",
   "execution_count": null,
   "metadata": {},
   "outputs": [],
   "source": [
    "# To do the 2 x 2 matrix we will only use Recency & Monetary\n",
    "df_RFM['RMScore'] = df_RFM.M.map(str)+df_RFM.R.map(str)\n",
    "df_RFM = df_RFM.reset_index()\n",
    "df_RFM_SUM = df_RFM.groupby('RMScore').agg({'User ID': lambda y: len(y.unique()),\n",
    "                                        'Frequency': lambda y: round(y.mean(),0),\n",
    "                                        'Recency': lambda y: round(y.mean(),0),\n",
    "                                        'R': lambda y: round(y.mean(),0),\n",
    "                                        'M': lambda y: round(y.mean(),0),\n",
    "                                        'Monetary': lambda y: round(y.mean(),0)})\n",
    "df_RFM_SUM = df_RFM_SUM.sort_values('RMScore', ascending=False)\n",
    "df_RFM_SUM.head()"
   ]
  },
  {
   "cell_type": "markdown",
   "metadata": {},
   "source": [
    "**Step 4: Visualize the Value Matrix and explore some key numbers**"
   ]
  },
  {
   "cell_type": "code",
   "execution_count": null,
   "metadata": {},
   "outputs": [],
   "source": [
    "# 1) Average Monetary Matrix\n",
    "df_RFM_M = df_RFM_SUM.pivot(index='M', columns='R', values='Monetary')\n",
    "df_RFM_M= df_RFM_M.reset_index().sort_values(['M'], ascending = False).set_index(['M'])\n",
    "df_RFM_M"
   ]
  },
  {
   "cell_type": "code",
   "execution_count": null,
   "metadata": {},
   "outputs": [],
   "source": [
    "# 2) Number of Customer Matrix\n",
    "df_RFM_C = df_RFM_SUM.pivot(index='M', columns='R', values='User ID')\n",
    "df_RFM_C= df_RFM_C.reset_index().sort_values(['M'], ascending = False).set_index(['M'])\n",
    "df_RFM_C"
   ]
  },
  {
   "cell_type": "code",
   "execution_count": null,
   "metadata": {},
   "outputs": [],
   "source": [
    "# 3) Recency Matrix\n",
    "df_RFM_R = df_RFM_SUM.pivot(index='M', columns='R', values='Recency')\n",
    "df_RFM_R= df_RFM_M.reset_index().sort_values(['M'], ascending = False).set_index(['M'])\n",
    "df_RFM_R"
   ]
  },
  {
   "cell_type": "markdown",
   "metadata": {},
   "source": [
    "<img src = \"https://miro.medium.com/max/1920/1*zESqrQ1e6Tm5Uwu23PFtGA.png\" width = \"400\">"
   ]
  },
  {
   "cell_type": "markdown",
   "metadata": {},
   "source": [
    "**Some takeaways / quick wins with very simple sales & marketing tactics examples?**"
   ]
  },
  {
   "cell_type": "markdown",
   "metadata": {},
   "source": [
    "- There are few customers in the “Disengaged” bucket and they have an average revenue lower than the “Star” bucket. Since there are very few of them, it should be easy to partner with the business to understand what happened at the customer level. Based on the analysis, there might be a simple quick win: reactivate few of them with a phone call or meeting to hopefully move them back to the “Star” bucket (e.g. engaged customers).\n",
    " \n",
    "- The average last order from the “Light” bucket is very old (almost 1 year vs. 60-70 days for ‘engaged’ customers). Launching a simple reactivation campaign with a coupon might be an initiative that could lead to some new orders and help some of these customers move to the “New” bucket (e.g. engaged customers)."
   ]
  },
  {
   "cell_type": "markdown",
   "metadata": {},
   "source": [
    "<img src = \"https://miro.medium.com/max/1080/1*wZY7pxdnVgv-34v7gRQ9jw.png\" width = \"300\">"
   ]
  },
  {
   "cell_type": "code",
   "execution_count": null,
   "metadata": {},
   "outputs": [],
   "source": []
  }
 ],
 "metadata": {
  "kernelspec": {
   "display_name": "Python 3",
   "language": "python",
   "name": "python3"
  },
  "language_info": {
   "codemirror_mode": {
    "name": "ipython",
    "version": 3
   },
   "file_extension": ".py",
   "mimetype": "text/x-python",
   "name": "python",
   "nbconvert_exporter": "python",
   "pygments_lexer": "ipython3",
   "version": "3.7.5"
  }
 },
 "nbformat": 4,
 "nbformat_minor": 2
}
