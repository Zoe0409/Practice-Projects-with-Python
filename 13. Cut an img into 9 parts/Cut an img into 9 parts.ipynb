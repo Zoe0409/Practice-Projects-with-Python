{
 "cells": [
  {
   "cell_type": "code",
   "execution_count": 1,
   "metadata": {},
   "outputs": [],
   "source": [
    "from PIL import Image\n",
    "import sys\n",
    "\n",
    "#generate a new img in white bg\n",
    "def fill_image(image):\n",
    "    width, height = image.size    \n",
    "    #Select the highest size as the length of the new img\n",
    "    new_image_length = width if width > height else height    \n",
    "    \n",
    "    new_image = Image.new(image.mode, (new_image_length, new_image_length), color='white')    \n",
    "    if width > height:\n",
    "        new_image.paste(image, (0, int((new_image_length - height) / 2)))\n",
    "    else:\n",
    "        new_image.paste(image, (int((new_image_length - width) / 2),0))    \n",
    "    return new_image\n",
    "\n",
    "#cut the original img\n",
    "def cut_image(image):\n",
    "    width, height = image.size\n",
    "    item_width = int(width / 3)\n",
    "    box_list = []\n",
    "    for i in range(0,3):\n",
    "        for j in range(0,3):\n",
    "            box = (j*item_width,i*item_width,(j+1)*item_width,(i+1)*item_width)\n",
    "            box_list.append(box)\n",
    "\n",
    "    image_list = [image.crop(box) for box in box_list]    \n",
    "    return image_list\n",
    "\n",
    "#save the new img\n",
    "def save_images(image_list):\n",
    "    index = 1 \n",
    "    for image in image_list:\n",
    "        image.save('result/python'+str(index) + '.png', 'PNG')\n",
    "        index += 1\n",
    "\n",
    "if __name__ == '__main__':\n",
    "    file_path = \"python.jpeg\"\n",
    "    image = Image.open(file_path)   \n",
    "    image = fill_image(image)\n",
    "    image_list = cut_image(image)\n",
    "    save_images(image_list)"
   ]
  },
  {
   "cell_type": "code",
   "execution_count": null,
   "metadata": {},
   "outputs": [],
   "source": []
  }
 ],
 "metadata": {
  "kernelspec": {
   "display_name": "Python 3",
   "language": "python",
   "name": "python3"
  },
  "language_info": {
   "codemirror_mode": {
    "name": "ipython",
    "version": 3
   },
   "file_extension": ".py",
   "mimetype": "text/x-python",
   "name": "python",
   "nbconvert_exporter": "python",
   "pygments_lexer": "ipython3",
   "version": "3.7.5"
  }
 },
 "nbformat": 4,
 "nbformat_minor": 2
}
