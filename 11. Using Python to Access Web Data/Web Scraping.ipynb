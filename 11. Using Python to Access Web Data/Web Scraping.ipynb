{
 "cells": [
  {
   "cell_type": "markdown",
   "metadata": {},
   "source": [
    "### Retrieving Web Pages"
   ]
  },
  {
   "cell_type": "code",
   "execution_count": 1,
   "metadata": {},
   "outputs": [],
   "source": [
    "import urllib.request, urllib.parse, urllib.error"
   ]
  },
  {
   "cell_type": "code",
   "execution_count": 2,
   "metadata": {},
   "outputs": [],
   "source": [
    "fhand = urllib.request.urlopen('http://data.pr4e.org/romeo.txt')"
   ]
  },
  {
   "cell_type": "code",
   "execution_count": 3,
   "metadata": {},
   "outputs": [
    {
     "name": "stdout",
     "output_type": "stream",
     "text": [
      "But soft what light through yonder window breaks\n",
      "It is the east and Juliet is the sun\n",
      "Arise fair sun and kill the envious moon\n",
      "Who is already sick and pale with grief\n"
     ]
    }
   ],
   "source": [
    "for line in fhand:\n",
    "    print(line.decode().strip())"
   ]
  },
  {
   "cell_type": "markdown",
   "metadata": {},
   "source": [
    "### Parsing Web Pages"
   ]
  },
  {
   "cell_type": "code",
   "execution_count": 4,
   "metadata": {},
   "outputs": [],
   "source": [
    "from bs4 import BeautifulSoup"
   ]
  },
  {
   "cell_type": "code",
   "execution_count": 5,
   "metadata": {},
   "outputs": [],
   "source": [
    "url = 'https://www.linkedin.com/jobs/search/?geoId=90000070&location=New%20York%20City%20Metropolitan%20Area'"
   ]
  },
  {
   "cell_type": "code",
   "execution_count": 6,
   "metadata": {},
   "outputs": [],
   "source": [
    "html = urllib.request.urlopen(url).read()"
   ]
  },
  {
   "cell_type": "code",
   "execution_count": 7,
   "metadata": {},
   "outputs": [],
   "source": [
    "soup = BeautifulSoup(html, 'html.parser')"
   ]
  },
  {
   "cell_type": "code",
   "execution_count": 8,
   "metadata": {},
   "outputs": [
    {
     "name": "stdout",
     "output_type": "stream",
     "text": [
      "/?trk=guest_job_search_nav-header-logo\n",
      "https://www.linkedin.com/start/join?source=jobs_registration&session_redirect=https%3A%2F%2Fwww.linkedin.com%2Fjobs%2Fsearch%2F%3FgeoId%3D90000070%26location%3DNew%2520York%2520City%2520Metropolitan%2520Area&trk=guest_job_search_nav-header-join\n",
      "https://www.linkedin.com/uas/login?emailAddress=&fromSignIn=true&session_redirect=https%3A%2F%2Fwww.linkedin.com%2Fjobs%2Fsearch%2F%3FgeoId%3D90000070%26location%3DNew%2520York%2520City%2520Metropolitan%2520Area&trk=guest_job_search_nav-header-signin\n",
      "https://www.linkedin.com/uas/login?session_redirect=https%3A%2F%2Fwww%2Elinkedin%2Ecom%2Fjobs%2Fsearch%2F%3FgeoId%3D90000070%26location%3DNew%2520York%2520City%2520Metropolitan%2520Area&amp;emailAddress=&amp;fromSignIn=&trk=guest_job_search_sign-in-hidden-module\n",
      "https://www.linkedin.com/jobs/view/coordinator-content-distribution-at-mgm-1704097851?refId=0bf9743b-afd5-405c-a93d-b4b41de9718a&position=1&pageNum=0&trk=guest_job_search_job-result-card_result-card_full-click\n",
      "https://www.linkedin.com/company/mgm?trk=guest_job_search_job-result-card_result-card_subtitle-click\n",
      "https://www.linkedin.com/jobs/view/associate-director-of-operations-at-moma-ps1-1702466493?refId=0bf9743b-afd5-405c-a93d-b4b41de9718a&position=2&pageNum=0&trk=guest_job_search_job-result-card_result-card_full-click\n",
      "https://www.linkedin.com/company/momaps1-art-center?trk=guest_job_search_job-result-card_result-card_subtitle-click\n",
      "https://www.linkedin.com/jobs/view/document-coordinator-at-r-d-partners-1702423359?refId=0bf9743b-afd5-405c-a93d-b4b41de9718a&position=3&pageNum=0&trk=guest_job_search_job-result-card_result-card_full-click\n",
      "https://www.linkedin.com/company/r&d-partners_2?trk=guest_job_search_job-result-card_result-card_subtitle-click\n",
      "https://www.linkedin.com/jobs/view/histotechnician-at-schweiger-dermatology-group-1701883904?refId=0bf9743b-afd5-405c-a93d-b4b41de9718a&position=4&pageNum=0&trk=guest_job_search_job-result-card_result-card_full-click\n",
      "https://www.linkedin.com/company/schweiger-dermatology?trk=guest_job_search_job-result-card_result-card_subtitle-click\n",
      "https://www.linkedin.com/jobs/view/assistant-merchant-at-marvel-entertainment-1703854976?refId=0bf9743b-afd5-405c-a93d-b4b41de9718a&position=5&pageNum=0&trk=guest_job_search_job-result-card_result-card_full-click\n",
      "https://www.linkedin.com/company/marvel-entertainment?trk=guest_job_search_job-result-card_result-card_subtitle-click\n",
      "https://www.linkedin.com/jobs/view/associate-product-operations-at-doordash-1703726304?refId=0bf9743b-afd5-405c-a93d-b4b41de9718a&position=6&pageNum=0&trk=guest_job_search_job-result-card_result-card_full-click\n",
      "https://www.linkedin.com/company/doordash?trk=guest_job_search_job-result-card_result-card_subtitle-click\n",
      "https://www.linkedin.com/jobs/view/coordinator-commerce-marketing-at-warner-music-group-1704017144?refId=0bf9743b-afd5-405c-a93d-b4b41de9718a&position=7&pageNum=0&trk=guest_job_search_job-result-card_result-card_full-click\n",
      "https://www.linkedin.com/company/warner-music-group?trk=guest_job_search_job-result-card_result-card_subtitle-click\n",
      "https://www.linkedin.com/jobs/view/program-manager-marketing-operations-at-google-1694600751?refId=0bf9743b-afd5-405c-a93d-b4b41de9718a&position=8&pageNum=0&trk=guest_job_search_job-result-card_result-card_full-click\n",
      "https://www.linkedin.com/company/google?trk=guest_job_search_job-result-card_result-card_subtitle-click\n",
      "https://www.linkedin.com/jobs/view/account-coordinator-brand-communications-at-small-girls-pr-1704021884?refId=0bf9743b-afd5-405c-a93d-b4b41de9718a&position=9&pageNum=0&trk=guest_job_search_job-result-card_result-card_full-click\n",
      "https://www.linkedin.com/company/small-girls-pr?trk=guest_job_search_job-result-card_result-card_subtitle-click\n",
      "https://www.linkedin.com/jobs/view/principal-program-project-managment-at-bny-mellon-1701928278?refId=0bf9743b-afd5-405c-a93d-b4b41de9718a&position=10&pageNum=0&trk=guest_job_search_job-result-card_result-card_full-click\n",
      "https://www.linkedin.com/company/bny-mellon?trk=guest_job_search_job-result-card_result-card_subtitle-click\n",
      "https://www.linkedin.com/jobs/view/news-curator-at-snap-inc-1703918308?refId=0bf9743b-afd5-405c-a93d-b4b41de9718a&position=11&pageNum=0&trk=guest_job_search_job-result-card_result-card_full-click\n",
      "https://www.linkedin.com/company/snap-inc-co?trk=guest_job_search_job-result-card_result-card_subtitle-click\n",
      "https://www.linkedin.com/jobs/view/sample-coordinator-at-steve-madden-1702102718?refId=0bf9743b-afd5-405c-a93d-b4b41de9718a&position=12&pageNum=0&trk=guest_job_search_job-result-card_result-card_full-click\n",
      "https://www.linkedin.com/company/steve-madden?trk=guest_job_search_job-result-card_result-card_subtitle-click\n",
      "https://www.linkedin.com/jobs/view/personal-assistant-at-iheartmedia-1704086675?refId=0bf9743b-afd5-405c-a93d-b4b41de9718a&position=13&pageNum=0&trk=guest_job_search_job-result-card_result-card_full-click\n",
      "https://www.linkedin.com/company/iheartmedia?trk=guest_job_search_job-result-card_result-card_subtitle-click\n",
      "https://www.linkedin.com/jobs/view/head-of-customer-experience-at-noom-inc-1703914318?refId=0bf9743b-afd5-405c-a93d-b4b41de9718a&position=14&pageNum=0&trk=guest_job_search_job-result-card_result-card_full-click\n",
      "https://www.linkedin.com/company/noom-inc?trk=guest_job_search_job-result-card_result-card_subtitle-click\n",
      "https://www.linkedin.com/jobs/view/social-media-specialist-at-bigelow-tea-1704220329?refId=0bf9743b-afd5-405c-a93d-b4b41de9718a&position=15&pageNum=0&trk=guest_job_search_job-result-card_result-card_full-click\n",
      "https://www.linkedin.com/company/bigelow-tea?trk=guest_job_search_job-result-card_result-card_subtitle-click\n",
      "https://www.linkedin.com/jobs/view/tech-recruiter-project-at-national-basketball-association-nba-1703477095?refId=0bf9743b-afd5-405c-a93d-b4b41de9718a&position=16&pageNum=0&trk=guest_job_search_job-result-card_result-card_full-click\n",
      "https://www.linkedin.com/company/national-basketball-association?trk=guest_job_search_job-result-card_result-card_subtitle-click\n",
      "https://www.linkedin.com/jobs/view/talent-acquisition-coordinator-at-louis-vuitton-1704007091?refId=0bf9743b-afd5-405c-a93d-b4b41de9718a&position=17&pageNum=0&trk=guest_job_search_job-result-card_result-card_full-click\n",
      "https://fr.linkedin.com/company/louis-vuitton?trk=guest_job_search_job-result-card_result-card_subtitle-click\n",
      "https://www.linkedin.com/jobs/view/google-analytics-analyst-at-jdc-group-1703392178?refId=0bf9743b-afd5-405c-a93d-b4b41de9718a&position=18&pageNum=0&trk=guest_job_search_job-result-card_result-card_full-click\n",
      "https://www.linkedin.com/company/jdc-group?trk=guest_job_search_job-result-card_result-card_subtitle-click\n",
      "https://www.linkedin.com/jobs/view/asset-management-co-ordinator-at-bassetlaw-district-council-1702125256?refId=0bf9743b-afd5-405c-a93d-b4b41de9718a&position=19&pageNum=0&trk=guest_job_search_job-result-card_result-card_full-click\n",
      "https://uk.linkedin.com/company/bassetlaw-district-council?trk=guest_job_search_job-result-card_result-card_subtitle-click\n",
      "https://www.linkedin.com/jobs/view/jpo-political-affairs-un-new-york-new-york-at-sida-group-1703723439?refId=0bf9743b-afd5-405c-a93d-b4b41de9718a&position=20&pageNum=0&trk=guest_job_search_job-result-card_result-card_full-click\n",
      "https://it.linkedin.com/company/sida-group?trk=guest_job_search_job-result-card_result-card_subtitle-click\n",
      "https://www.linkedin.com/jobs/view/strategy-associate-at-handy-hq-1701885647?refId=0bf9743b-afd5-405c-a93d-b4b41de9718a&position=21&pageNum=0&trk=guest_job_search_job-result-card_result-card_full-click\n",
      "https://www.linkedin.com/company/handyhq?trk=guest_job_search_job-result-card_result-card_subtitle-click\n",
      "https://www.linkedin.com/jobs/view/brand-partnerships-lead-at-305-fitness-1704023240?refId=0bf9743b-afd5-405c-a93d-b4b41de9718a&position=22&pageNum=0&trk=guest_job_search_job-result-card_result-card_full-click\n",
      "https://www.linkedin.com/company/305-fitness?trk=guest_job_search_job-result-card_result-card_subtitle-click\n",
      "https://www.linkedin.com/jobs/view/social-media-specialist-at-sheehan-family-companies-1703885263?refId=0bf9743b-afd5-405c-a93d-b4b41de9718a&position=23&pageNum=0&trk=guest_job_search_job-result-card_result-card_full-click\n",
      "https://www.linkedin.com/company/l--knife-&-son-inc-?trk=guest_job_search_job-result-card_result-card_subtitle-click\n",
      "https://www.linkedin.com/jobs/view/vp-of-operations-at-dig-1703035509?refId=0bf9743b-afd5-405c-a93d-b4b41de9718a&position=24&pageNum=0&trk=guest_job_search_job-result-card_result-card_full-click\n",
      "https://www.linkedin.com/company/dig-inn?trk=guest_job_search_job-result-card_result-card_subtitle-click\n",
      "https://www.linkedin.com/jobs/view/special-projects-associate-at-explore-schools-1702403584?refId=0bf9743b-afd5-405c-a93d-b4b41de9718a&position=25&pageNum=0&trk=guest_job_search_job-result-card_result-card_full-click\n",
      "https://www.linkedin.com/company/explore-schools?trk=guest_job_search_job-result-card_result-card_subtitle-click\n",
      "https://www.linkedin.com/uas/login?session_redirect=https%3A%2F%2Fwww%2Elinkedin%2Ecom%2Fjobs%2Fsearch%2F%3FgeoId%3D90000070%26location%3DNew%2520York%2520City%2520Metropolitan%2520Area&amp;emailAddress=&amp;fromSignIn=&trk=guest_job_search_create-job-alert-bottom-of-results\n",
      "https://press.linkedin.com/about-linkedin?trk=guest_job_search_footer-about\n",
      "https://www.linkedin.com/legal/user-agreement?trk=guest_job_search_footer-user-agreement\n",
      "https://www.linkedin.com/legal/privacy-policy?trk=guest_job_search_footer-privacy-policy\n",
      "https://www.linkedin.com/legal/cookie-policy?trk=guest_job_search_footer-cookie-policy\n",
      "https://www.linkedin.com/legal/copyright-policy?trk=guest_job_search_footer-copyright-policy\n",
      "https://brand.linkedin.com/policies?trk=guest_job_search_footer-brand-policy\n",
      "https://www.linkedin.com/psettings/guest-controls?trk=guest_job_search_footer-guest-controls\n",
      "https://www.linkedin.com/help/linkedin/answer/34593?lang=en&trk=guest_job_search_footer-community-guide\n"
     ]
    }
   ],
   "source": [
    "# Retrieve all of the anchor tags\n",
    "tags = soup('a')\n",
    "for tag in tags:\n",
    "    print(tag.get('href',None))"
   ]
  },
  {
   "cell_type": "markdown",
   "metadata": {},
   "source": [
    "## An example walk through"
   ]
  },
  {
   "cell_type": "markdown",
   "metadata": {},
   "source": [
    "### Defining selection criteria"
   ]
  },
  {
   "cell_type": "markdown",
   "metadata": {},
   "source": [
    "### 1. In the level 1 page"
   ]
  },
  {
   "cell_type": "markdown",
   "metadata": {},
   "source": [
    "**Selecting the post link**"
   ]
  },
  {
   "cell_type": "code",
   "execution_count": 9,
   "metadata": {},
   "outputs": [],
   "source": [
    "import re\n",
    "Link = []\n",
    "for tag in tags:\n",
    "    tag = tag.get('href',None)\n",
    "    if re.search('https://www.linkedin.com/jobs/view/', tag):\n",
    "        Link.append(tag)"
   ]
  },
  {
   "cell_type": "markdown",
   "metadata": {},
   "source": [
    "**Selecting the Company Name**"
   ]
  },
  {
   "cell_type": "code",
   "execution_count": 10,
   "metadata": {},
   "outputs": [],
   "source": [
    "company_list = soup.find_all(class_='result-card__subtitle-link job-result-card__subtitle-link')"
   ]
  },
  {
   "cell_type": "code",
   "execution_count": 11,
   "metadata": {},
   "outputs": [],
   "source": [
    "Company = []\n",
    "for company in company_list:\n",
    "    Company.append(company.text)"
   ]
  },
  {
   "cell_type": "markdown",
   "metadata": {},
   "source": [
    "**Selecting the Title Name**"
   ]
  },
  {
   "cell_type": "code",
   "execution_count": 12,
   "metadata": {},
   "outputs": [],
   "source": [
    "tilte_list = soup.find_all(class_='result-card__title job-result-card__title')"
   ]
  },
  {
   "cell_type": "code",
   "execution_count": 13,
   "metadata": {},
   "outputs": [],
   "source": [
    "Title = []\n",
    "for title in tilte_list:\n",
    "    Title.append(title.text)"
   ]
  },
  {
   "cell_type": "markdown",
   "metadata": {},
   "source": [
    "**Selecting the Location**"
   ]
  },
  {
   "cell_type": "code",
   "execution_count": 14,
   "metadata": {},
   "outputs": [],
   "source": [
    "location_list = soup.find_all(class_='job-result-card__location')"
   ]
  },
  {
   "cell_type": "code",
   "execution_count": 15,
   "metadata": {},
   "outputs": [],
   "source": [
    "Location = []\n",
    "for location in location_list:\n",
    "    Location.append(location.text)"
   ]
  },
  {
   "cell_type": "markdown",
   "metadata": {},
   "source": [
    "### 2. In the level 2 page -- Post detailed Information"
   ]
  },
  {
   "cell_type": "code",
   "execution_count": 16,
   "metadata": {},
   "outputs": [],
   "source": [
    "url = Link[0]"
   ]
  },
  {
   "cell_type": "code",
   "execution_count": 17,
   "metadata": {},
   "outputs": [],
   "source": [
    "html = urllib.request.urlopen(url).read()"
   ]
  },
  {
   "cell_type": "code",
   "execution_count": 18,
   "metadata": {},
   "outputs": [],
   "source": [
    "soup = BeautifulSoup(html, 'html.parser')"
   ]
  },
  {
   "cell_type": "code",
   "execution_count": 19,
   "metadata": {},
   "outputs": [],
   "source": [
    "company_name = soup.find(class_='topcard__org-name-link topcard__flavor--black-link').text"
   ]
  },
  {
   "cell_type": "code",
   "execution_count": 20,
   "metadata": {},
   "outputs": [],
   "source": [
    "title = soup.find(class_='topcard__title').text"
   ]
  },
  {
   "cell_type": "code",
   "execution_count": 21,
   "metadata": {},
   "outputs": [],
   "source": [
    "city = re.findall('\"addressLocality\":\"(.+?)\"',soup.text)[0]\n",
    "state = re.findall('\"addressRegion\":\"(.+?)\"',soup.text)[0]\n",
    "country = re.findall('\"addressCountry\":\"(.+?)\"',soup.text)[0]"
   ]
  },
  {
   "cell_type": "code",
   "execution_count": 22,
   "metadata": {},
   "outputs": [],
   "source": [
    "level = re.findall('\"experienceRequirements\":\"(.+?)\"',soup.text)[0]"
   ]
  },
  {
   "cell_type": "code",
   "execution_count": 23,
   "metadata": {},
   "outputs": [],
   "source": [
    "industry = re.findall('\"industry\":\"(.+?)\"',soup.text)"
   ]
  },
  {
   "cell_type": "markdown",
   "metadata": {},
   "source": [
    "### Put them together"
   ]
  },
  {
   "cell_type": "code",
   "execution_count": 24,
   "metadata": {},
   "outputs": [],
   "source": [
    "def getlink(url):\n",
    "    html = urllib.request.urlopen(url).read()\n",
    "    soup = BeautifulSoup(html, 'html.parser')\n",
    "    Link = []\n",
    "    tags = soup('a')\n",
    "    for tag in tags:\n",
    "        tag = tag.get('href',None)\n",
    "        if re.search('https://www.linkedin.com/jobs/view/', tag):\n",
    "            Link.append(tag)\n",
    "    return(Link)"
   ]
  },
  {
   "cell_type": "code",
   "execution_count": 25,
   "metadata": {},
   "outputs": [],
   "source": [
    "def getjd(url):\n",
    "    html = urllib.request.urlopen(url).read()\n",
    "    soup = BeautifulSoup(html, 'html.parser')\n",
    "    \n",
    "    company_name = soup.find(class_='topcard__org-name-link topcard__flavor--black-link')\n",
    "    if company_name is None:\n",
    "        company_name = 'Not Available'\n",
    "    else:\n",
    "        company_name = company_name.text\n",
    "        \n",
    "    title = soup.find(class_='topcard__title')\n",
    "    if len(title) is None:\n",
    "        title = 'Not Available'\n",
    "    else:\n",
    "        title = title.text\n",
    "        \n",
    "    city = re.findall('\"addressLocality\":\"(.+?)\"',soup.text)\n",
    "    if len(city) == 0:\n",
    "        city = 'Not Available'\n",
    "    elif len(city) == 1:\n",
    "        city = city[0]\n",
    "        \n",
    "    state = re.findall('\"addressRegion\":\"(.+?)\"',soup.text)\n",
    "    if len(state) == 0:\n",
    "        state = 'Not Available'\n",
    "    elif len(state) == 1:\n",
    "        state = state[0]\n",
    "        \n",
    "    country = re.findall('\"addressCountry\":\"(.+?)\"',soup.text)\n",
    "    if len(country) == 0:\n",
    "        country = 'Not Available'\n",
    "    elif len(country) == 1:\n",
    "        country = country[0]\n",
    "        \n",
    "    level = re.findall('\"experienceRequirements\":\"(.+?)\"',soup.text)\n",
    "    if len(level) == 0:\n",
    "        level = 'Not Available'\n",
    "    elif len(level) == 1:\n",
    "        level = level[0]\n",
    "        \n",
    "    industry = re.findall('\"industry\":\"(.+?)\"',soup.text)\n",
    "    if len(industry) == 0:\n",
    "        industry = 'Not Available'\n",
    "    \n",
    "    url = url\n",
    "    result = [company_name,title,city,state,country,level,industry,url]\n",
    "    return(result)"
   ]
  },
  {
   "cell_type": "code",
   "execution_count": 26,
   "metadata": {},
   "outputs": [],
   "source": [
    "import time\n",
    "linklist = []\n",
    "for i in range(40):\n",
    "    value = i*25\n",
    "    url = 'https://www.linkedin.com/jobs/search/?start='+str(value)\n",
    "    urllist = getlink(url)\n",
    "    linklist = linklist + urllist\n",
    "    time.sleep(2)"
   ]
  },
  {
   "cell_type": "code",
   "execution_count": 29,
   "metadata": {},
   "outputs": [],
   "source": [
    "import csv\n",
    "with open('LinkedIn Job posts.csv','a') as f:\n",
    "    writer = csv.writer(f)\n",
    "    writer.writerow([\"Company\",\"Title\",\"City\",\"State\",\"Country\",\"Level\",\"Industry\",\"URL\"])\n",
    "    for i in range(len(linklist)):\n",
    "        link = linklist[i]\n",
    "        result = getjd(link)\n",
    "        writer.writerow(result)\n",
    "        time.sleep(10)"
   ]
  },
  {
   "cell_type": "code",
   "execution_count": null,
   "metadata": {},
   "outputs": [],
   "source": []
  }
 ],
 "metadata": {
  "kernelspec": {
   "display_name": "Python 3",
   "language": "python",
   "name": "python3"
  },
  "language_info": {
   "codemirror_mode": {
    "name": "ipython",
    "version": 3
   },
   "file_extension": ".py",
   "mimetype": "text/x-python",
   "name": "python",
   "nbconvert_exporter": "python",
   "pygments_lexer": "ipython3",
   "version": "3.7.5"
  }
 },
 "nbformat": 4,
 "nbformat_minor": 2
}
