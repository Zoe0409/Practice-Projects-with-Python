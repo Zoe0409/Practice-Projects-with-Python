{
 "cells": [
  {
   "cell_type": "code",
   "execution_count": 1,
   "metadata": {},
   "outputs": [],
   "source": [
    "import os"
   ]
  },
  {
   "cell_type": "code",
   "execution_count": 2,
   "metadata": {},
   "outputs": [],
   "source": [
    "def get_big_file(path, filesize):\n",
    "\n",
    "    for dirpath, dirnames, filenames in os.walk(path):\n",
    "        for filename in filenames:\n",
    "            target_file = os.path.join(dirpath, filename)\n",
    "\n",
    "            if not os.path.isfile(target_file):\n",
    "                continue\n",
    "            size = os.path.getsize(target_file)\n",
    "            if size > filesize:\n",
    "                size = size//(1024*1024)    \n",
    "                size = '{size}M'.format(size=size)\n",
    "                print(target_file, size)"
   ]
  },
  {
   "cell_type": "code",
   "execution_count": 4,
   "metadata": {},
   "outputs": [
    {
     "name": "stdout",
     "output_type": "stream",
     "text": [
      "/Users/Zoe/Pictures/照片图库.photoslibrary/originals/D/DC63D87A-FAC2-4C07-BC9F-FD4CFA1819EF.mov 568M\n",
      "/Users/Zoe/Library/Group Containers/3L68KQB4HG.group.com.readdle.smartemail/databases/cache.sqlite 1988M\n",
      "/Users/Zoe/Library/Containers/com.apple.QuickTimePlayerX/Data/Library/Autosave Information/未存储的“QuickTime Player”文稿.qtpxcomposition/屏幕录制.mov 622M\n",
      "/Users/Zoe/Library/Containers/com.apple.QuickTimePlayerX/Data/Library/Autosave Information/“QuickTime Player”文稿还剩 2 未存储.qtpxcomposition/屏幕录制.mov 2185M\n",
      "/Users/Zoe/.rstudio-desktop/ctx/ctx-26767/environmentTmp 10317M\n",
      "/Users/Zoe/Downloads/GoogleNews-vectors-negative300.bin.gz 1570M\n"
     ]
    }
   ],
   "source": [
    "if __name__ == '__main__':\n",
    "    get_big_file('/Users/Zoe', 500*1024*1024)"
   ]
  },
  {
   "cell_type": "markdown",
   "metadata": {},
   "source": [
    "Got the large files in my laptop..."
   ]
  },
  {
   "cell_type": "code",
   "execution_count": null,
   "metadata": {},
   "outputs": [],
   "source": []
  }
 ],
 "metadata": {
  "kernelspec": {
   "display_name": "Python 3",
   "language": "python",
   "name": "python3"
  },
  "language_info": {
   "codemirror_mode": {
    "name": "ipython",
    "version": 3
   },
   "file_extension": ".py",
   "mimetype": "text/x-python",
   "name": "python",
   "nbconvert_exporter": "python",
   "pygments_lexer": "ipython3",
   "version": "3.7.5"
  }
 },
 "nbformat": 4,
 "nbformat_minor": 2
}
