{
 "cells": [
  {
   "cell_type": "code",
   "execution_count": 1,
   "metadata": {},
   "outputs": [
    {
     "name": "stdout",
     "output_type": "stream",
     "text": [
      "z%C_jtS_\n",
      "R+$RO^\n",
      "KrUA92$wahh7\n"
     ]
    }
   ],
   "source": [
    "import random\n",
    "\n",
    "\n",
    "def get_upper():\n",
    "    count = random.randint(1, 3)\n",
    "    return random.choices('ABCDEFGHIJKLMNOPQRSTUVWXYZ', k=count)\n",
    "\n",
    "\n",
    "def get_special_char():\n",
    "    count = random.randint(1, 3)\n",
    "    return random.choices('!@$%^&*()_+~', k=count)\n",
    "\n",
    "\n",
    "def get_lower(count):\n",
    "    string = 'abcdefghijklmnopqrstuvwxyz0123456789'\n",
    "    return random.choices(string, k=count)\n",
    "\n",
    "\n",
    "def generate_password(length):\n",
    "\n",
    "    if length < 6:\n",
    "        length = 6\n",
    "\n",
    "    lst = []\n",
    "    upper_lst = get_upper() \n",
    "    special_char = get_special_char()      \n",
    "    lst.extend(upper_lst)\n",
    "    lst.extend(special_char)\n",
    "\n",
    "    surplus_count = length - len(lst)\n",
    "    lower_lst = get_lower(surplus_count)\n",
    "    lst.extend(lower_lst)\n",
    "    random.shuffle(lst)\n",
    "    return ''.join(lst)\n",
    "\n",
    "\n",
    "if __name__ == '__main__':\n",
    "    print(generate_password(8))\n",
    "    print(generate_password(5))\n",
    "    print(generate_password(12))"
   ]
  },
  {
   "cell_type": "code",
   "execution_count": null,
   "metadata": {},
   "outputs": [],
   "source": []
  }
 ],
 "metadata": {
  "kernelspec": {
   "display_name": "Python 3",
   "language": "python",
   "name": "python3"
  },
  "language_info": {
   "codemirror_mode": {
    "name": "ipython",
    "version": 3
   },
   "file_extension": ".py",
   "mimetype": "text/x-python",
   "name": "python",
   "nbconvert_exporter": "python",
   "pygments_lexer": "ipython3",
   "version": "3.7.5"
  }
 },
 "nbformat": 4,
 "nbformat_minor": 2
}
