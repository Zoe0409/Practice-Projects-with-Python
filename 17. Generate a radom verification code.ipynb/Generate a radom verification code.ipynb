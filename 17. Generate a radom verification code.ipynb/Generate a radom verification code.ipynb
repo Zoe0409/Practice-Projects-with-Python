{
 "cells": [
  {
   "cell_type": "code",
   "execution_count": 1,
   "metadata": {},
   "outputs": [],
   "source": [
    "import os\n",
    "import random\n",
    "import base64\n",
    "from io import BytesIO\n",
    "from PIL import Image\n",
    "from PIL import ImageDraw\n",
    "from PIL import ImageFont"
   ]
  },
  {
   "cell_type": "code",
   "execution_count": 2,
   "metadata": {},
   "outputs": [],
   "source": [
    "def random_color():\n",
    "    c1 = random.randint(0, 255)\n",
    "    c2 = random.randint(0, 255)\n",
    "    c3 = random.randint(0, 255)\n",
    "    return c1, c2, c3"
   ]
  },
  {
   "cell_type": "code",
   "execution_count": 3,
   "metadata": {},
   "outputs": [],
   "source": [
    "def generate_picture(width=120, height=35):\n",
    "    image = Image.new('RGB', (width, height), random_color())\n",
    "    return image"
   ]
  },
  {
   "cell_type": "code",
   "execution_count": 4,
   "metadata": {},
   "outputs": [],
   "source": [
    "def random_str():\n",
    "    '''\n",
    "    get a random int, or alpha\n",
    "    :return:\n",
    "    '''\n",
    "    random_num = str(random.randint(0, 9))\n",
    "    random_low_alpha = chr(random.randint(97, 122))\n",
    "    random_char = random.choice([random_num, random_low_alpha])\n",
    "    return random_char"
   ]
  },
  {
   "cell_type": "code",
   "execution_count": 5,
   "metadata": {},
   "outputs": [],
   "source": [
    "def draw_str(count, image, font_size):\n",
    "    draw = ImageDraw.Draw(image)\n",
    "    font_file = os.path.join('Andale Mono.ttf')\n",
    "    font = ImageFont.truetype(font_file, size=font_size)\n",
    "    temp = []\n",
    "    for i in range(count):\n",
    "        random_char = random_str()\n",
    "        draw.text((10+i*30, -2), random_char, random_color(), font=font)\n",
    "        temp.append(random_char)\n",
    "\n",
    "    valid_str = \"\".join(temp)   \n",
    "    return valid_str, image"
   ]
  },
  {
   "cell_type": "code",
   "execution_count": 6,
   "metadata": {},
   "outputs": [],
   "source": [
    "def noise(image, width=120, height=35, line_count=3, point_count=20):\n",
    "    draw = ImageDraw.Draw(image)\n",
    "    for i in range(line_count):\n",
    "        x1 = random.randint(0, width)\n",
    "        x2 = random.randint(0, width)\n",
    "        y1 = random.randint(0, height)\n",
    "        y2 = random.randint(0, height)\n",
    "        draw.line((x1, y1, x2, y2), fill=random_color())\n",
    "\n",
    "        # 画点\n",
    "        for i in range(point_count):\n",
    "            draw.point([random.randint(0, width), random.randint(0, height)], fill=random_color())\n",
    "            x = random.randint(0, width)\n",
    "            y = random.randint(0, height)\n",
    "            draw.arc((x, y, x + 4, y + 4), 0, 90, fill=random_color())\n",
    "\n",
    "    return image"
   ]
  },
  {
   "cell_type": "code",
   "execution_count": 7,
   "metadata": {},
   "outputs": [],
   "source": [
    "def valid_code():\n",
    "    image = generate_picture()\n",
    "    valid_str, image = draw_str(4, image, 35)\n",
    "    image = noise(image)\n",
    "\n",
    "    f = BytesIO()\n",
    "    image.save(f, 'png')\n",
    "    data = f.getvalue()\n",
    "    f.close()\n",
    "\n",
    "    encode_data = base64.b64encode(data)\n",
    "    data = str(encode_data, encoding='utf-8')\n",
    "    img_data = \"data:image/jpeg;base64,{data}\".format(data=data)\n",
    "    return valid_str, img_data"
   ]
  },
  {
   "cell_type": "code",
   "execution_count": 8,
   "metadata": {},
   "outputs": [
    {
     "name": "stdout",
     "output_type": "stream",
     "text": [
      "('eo8t', 'data:image/jpeg;base64,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')\n"
     ]
    }
   ],
   "source": [
    "if __name__ == '__main__':\n",
    "    print(valid_code())"
   ]
  },
  {
   "cell_type": "code",
   "execution_count": null,
   "metadata": {},
   "outputs": [],
   "source": []
  }
 ],
 "metadata": {
  "kernelspec": {
   "display_name": "Python 3",
   "language": "python",
   "name": "python3"
  },
  "language_info": {
   "codemirror_mode": {
    "name": "ipython",
    "version": 3
   },
   "file_extension": ".py",
   "mimetype": "text/x-python",
   "name": "python",
   "nbconvert_exporter": "python",
   "pygments_lexer": "ipython3",
   "version": "3.7.5"
  }
 },
 "nbformat": 4,
 "nbformat_minor": 2
}
