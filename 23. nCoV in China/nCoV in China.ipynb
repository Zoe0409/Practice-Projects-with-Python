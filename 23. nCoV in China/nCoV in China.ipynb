{
 "cells": [
  {
   "cell_type": "code",
   "execution_count": 1,
   "metadata": {},
   "outputs": [],
   "source": [
    "import requests\n",
    "import json"
   ]
  },
  {
   "cell_type": "code",
   "execution_count": 2,
   "metadata": {},
   "outputs": [],
   "source": [
    "url = 'https://view.inews.qq.com/g2/getOnsInfo?name=disease_h5'\n",
    "data = json.loads(requests.get(url=url).json()['data'])\n",
    "china = data['areaTree'][0]['children']"
   ]
  },
  {
   "cell_type": "code",
   "execution_count": 3,
   "metadata": {},
   "outputs": [],
   "source": [
    "dlist = []\n",
    "for i in range(len(china)):\n",
    "    dlist.append([china[i]['name'],china[i]['total']['confirm']])"
   ]
  },
  {
   "cell_type": "code",
   "execution_count": 4,
   "metadata": {},
   "outputs": [],
   "source": [
    "#pip install pyecharts==1.0.0\n",
    "import requests\n",
    "import json\n",
    "from pyecharts.charts import Map, Geo\n",
    "from pyecharts import options as opts\n",
    "from pyecharts.globals import GeoType,RenderType"
   ]
  },
  {
   "cell_type": "code",
   "execution_count": 5,
   "metadata": {},
   "outputs": [],
   "source": [
    "china_total = \"\\n\".join([\"Confirmed: {} \".format(data['chinaTotal']['confirm']),\n",
    "              \"Suspect: {} \".format(data['chinaTotal']['suspect']),\n",
    "              \"Dead: {} \".format(data['chinaTotal']['dead']),\n",
    "              \"Recovered: {} \".format(data['chinaTotal']['heal']),\n",
    "              \"Last Update: {} \".format(data['lastUpdateTime'])])"
   ]
  },
  {
   "cell_type": "code",
   "execution_count": 8,
   "metadata": {},
   "outputs": [],
   "source": [
    "geo = (\n",
    "    Geo(init_opts = opts.InitOpts(width=\"1200px\",\n",
    "                                  height=\"600px\",\n",
    "                                  bg_color=\"#404a59\",\n",
    "                                  page_title=\"Real-time nCoV report in China\",\n",
    "                                  renderer=RenderType.SVG,\n",
    "                                  theme=\"white\"))\n",
    "    .add_schema(maptype=\"china\",\n",
    "                itemstyle_opts=opts.ItemStyleOpts(color=\"rgb(49,60,72)\",\n",
    "                                                  border_color=\"rgb(0,0,0)\"))\n",
    "    .add(series_name=\"geo\",\n",
    "         data_pair=dlist,\n",
    "         type_=GeoType.EFFECT_SCATTER)\n",
    "    .set_series_opts(\n",
    "        label_opts=opts.LabelOpts(is_show=False),\n",
    "        effect_opts = opts.EffectOpts(scale = 6))\n",
    "    .set_global_opts(\n",
    "        visualmap_opts=opts.VisualMapOpts(min_=0,\n",
    "                                          max_=sum(d[1] for d in dlist)/len(dlist)),\n",
    "        title_opts=opts.TitleOpts(title=\"nCoV map in China -- confirmed #\", \n",
    "                                  subtitle=china_total,\n",
    "                                  pos_left=\"center\",\n",
    "                                  pos_top=\"10px\",\n",
    "                                  title_textstyle_opts=opts.TextStyleOpts(color=\"#fff\")),\n",
    "        legend_opts = opts.LegendOpts(is_show=False)\n",
    "    )\n",
    ")"
   ]
  },
  {
   "cell_type": "code",
   "execution_count": 9,
   "metadata": {},
   "outputs": [
    {
     "data": {
      "text/plain": [
       "'/Users/Zoe/Desktop/23. nCoV in China/nCoV map in China.html'"
      ]
     },
     "execution_count": 9,
     "metadata": {},
     "output_type": "execute_result"
    }
   ],
   "source": [
    "geo.render(path=\"nCoV map in China.html\")"
   ]
  },
  {
   "cell_type": "code",
   "execution_count": null,
   "metadata": {},
   "outputs": [],
   "source": []
  }
 ],
 "metadata": {
  "kernelspec": {
   "display_name": "Python 3",
   "language": "python",
   "name": "python3"
  },
  "language_info": {
   "codemirror_mode": {
    "name": "ipython",
    "version": 3
   },
   "file_extension": ".py",
   "mimetype": "text/x-python",
   "name": "python",
   "nbconvert_exporter": "python",
   "pygments_lexer": "ipython3",
   "version": "3.7.5"
  }
 },
 "nbformat": 4,
 "nbformat_minor": 2
}
